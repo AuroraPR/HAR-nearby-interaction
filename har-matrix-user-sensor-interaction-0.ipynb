{
 "cells": [
  {
   "cell_type": "code",
   "execution_count": 1,
   "id": "speaking-philip",
   "metadata": {},
   "outputs": [],
   "source": [
    "\n",
    "\n",
    "ini_date = '12/08/22 13:00:00'\n",
    "end_date = '13/08/22 16:45:00'\n",
    "\n",
    "time_step=15\n",
    "\n",
    "sensors=[\"clutery\", \"dishwasher\",\"fridge\",\"microwave\"]\n",
    "tags=[\"1\", \"2\"]\n",
    "\n",
    "colors={}\n",
    "colors[\"1\"]=\"red\"\n",
    "colors[\"2\"]=\"blue\"\n"
   ]
  },
  {
   "cell_type": "code",
   "execution_count": 2,
   "id": "explicit-retail",
   "metadata": {},
   "outputs": [
    {
     "name": "stdout",
     "output_type": "stream",
     "text": [
      "Init date is 1660302000 day: 19216\n",
      "Init date is 1660401900 day: 19217\n",
      "6660\n"
     ]
    }
   ],
   "source": [
    "import numpy as np\n",
    "from pandas import read_csv    \n",
    "\n",
    "import time\n",
    "\n",
    "from datetime import datetime\n",
    "\n",
    "def day_time(ti):\n",
    "    return int((int)(ti/(60*60*24)))\n",
    "\n",
    "t0 = (int)(datetime.strptime(ini_date, '%d/%m/%y %H:%M:%S').timestamp())\n",
    "print (\"Init date is\", t0, \"day:\",day_time(t0))\n",
    "\n",
    "tN = (int)(datetime.strptime(end_date, '%d/%m/%y %H:%M:%S').timestamp())\n",
    "print (\"Init date is\", tN, \"day:\",day_time(tN))\n",
    "\n",
    "def relT(ti):\n",
    "    return (int)((ti-t0)/time_step)\n",
    "\n",
    "def absT(tt):\n",
    "    return (int)(tt*time_step+t0)\n",
    "\n",
    "nT=(int)(round((tN-t0-1)/time_step))\n",
    "print(nT)"
   ]
  },
  {
   "cell_type": "markdown",
   "id": "sweet-eclipse",
   "metadata": {},
   "source": []
  },
  {
   "cell_type": "code",
   "execution_count": 3,
   "id": "regular-channels",
   "metadata": {},
   "outputs": [
    {
     "name": "stdout",
     "output_type": "stream",
     "text": [
      "(6660,)\n",
      "(6660,)\n",
      "(6660,)\n",
      "(6660,)\n",
      "(4, 6660)\n"
     ]
    }
   ],
   "source": [
    "S=np.zeros((len(sensors), nT))\n",
    "for i,sensor in enumerate(sensors):\n",
    "    series=read_csv(\"./time-data/\"+sensor+\".tsv\", sep=\"\\t\",parse_dates=True,header=None)\n",
    "    S[i]=  np.array(series.values[:,[1]]).flatten()  \n",
    "    print(S[i].shape)\n",
    "print(S.shape)"
   ]
  },
  {
   "cell_type": "code",
   "execution_count": 4,
   "id": "applicable-edgar",
   "metadata": {},
   "outputs": [],
   "source": [
    "def intervals(s):\n",
    "    ret=[]\n",
    "    lastV=0\n",
    "    lastI=-1\n",
    "    for t in range(0,len(s)):\n",
    "        if(lastV==1 and s[t]==0):\n",
    "            ret.append((lastI,t-1))\n",
    "        if(lastV==0 and s[t]==1):\n",
    "            lastI=t\n",
    "        lastV=s[t]\n",
    "    return ret\n",
    "\n",
    "           "
   ]
  },
  {
   "cell_type": "code",
   "execution_count": 5,
   "id": "intensive-addiction",
   "metadata": {},
   "outputs": [
    {
     "name": "stdout",
     "output_type": "stream",
     "text": [
      "[0. 0. 0. 0. 1. 0. 0. 0. 1. 0. 0. 0. 0. 0. 0. 0. 0. 0. 0. 0.]\n",
      "[0.8 1.  1.  1.  1.  1.  1.  1.  1.  0.  0.  0.  0.  0.  0.  0.  0.  0.\n",
      " 0.  0. ]\n",
      "[0.  0.  0.  0.  1.  1.  1.  1.  1.  1.  1.  1.  0.8 0.6 0.4 0.2 0.  0.\n",
      " 0.  0. ]\n",
      "[0. 0. 0. 0. 1. 1. 1. 1. 1. 0. 0. 0. 0. 0. 0. 0. 0. 0. 0. 0.]\n"
     ]
    }
   ],
   "source": [
    "ftw_f1=[1,1,1,1,0.8,0.6,0.4,0.2]\n",
    "def FTW_f(s,ftw_f):\n",
    "    s2=np.zeros(len(s))\n",
    "    for t in range(0,nT):\n",
    "        s2[t]=0\n",
    "        for incT in range(0, len(ftw_f)):\n",
    "            if(t+incT>=(len(s))):\n",
    "                continue\n",
    "            s2[t]=max(s2[t],s[t+incT] * ftw_f[incT])\n",
    "    return s2\n",
    "def FTW_p(s,ftw_f):\n",
    "    s2=np.zeros(len(s))\n",
    "    for t in range(0,nT):\n",
    "        s2[t]=0\n",
    "        for incT in range(0, len(ftw_f)):\n",
    "            if(t-incT<0):\n",
    "                continue\n",
    "            s2[t]=max(s2[t],s[t-incT] * ftw_f[incT])\n",
    "    return s2\n",
    "\n",
    "def FTW_sensor(s,ftw_f):\n",
    "    sp=FTW_p(s,ftw_f)\n",
    "    sf=FTW_f(s,ftw_f)\n",
    "    s2=np.zeros(len(s))\n",
    "    for t in range(0,nT):\n",
    "        s2[t]=min(sp[t],sf[t])\n",
    "    return s2\n",
    "\n",
    "ix=range(5110,5130)\n",
    "s1=S[0]\n",
    "print(s1[ix])\n",
    "s2=FTW_f(s1,ftw_f1)\n",
    "print(s2[ix])\n",
    "s2=FTW_p(s1,ftw_f1)\n",
    "print(s2[ix])\n",
    "\n",
    "s2=FTW_sensor(s1,ftw_f1)\n",
    "print(s2[ix])"
   ]
  },
  {
   "cell_type": "code",
   "execution_count": 6,
   "id": "emerging-index",
   "metadata": {},
   "outputs": [
    {
     "data": {
      "image/png": "[encoded data removed]",
      "text/plain": [
       "<Figure size 432x288 with 4 Axes>"
      ]
     },
     "metadata": {
      "needs_background": "light"
     },
     "output_type": "display_data"
    }
   ],
   "source": [
    "import pandas as pd\n",
    "\n",
    "\n",
    "def printSensorMatrix(Ss):\n",
    "    df = pd.DataFrame()\n",
    "    ts=[]\n",
    "    for t in range(t0,tN,time_step):\n",
    "        ts.append(datetime.fromtimestamp( t))\n",
    "\n",
    "    df['Time']=ts\n",
    "    for ix,sensor in enumerate(sensors):\n",
    "        df[sensor]=Ss[ix]\n",
    "    df.plot(x=\"Time\",y=sensors,subplots=True, legend=True, ylim=(0,1))    \n",
    "    \n",
    "printSensorMatrix(S)    "
   ]
  },
  {
   "cell_type": "code",
   "execution_count": 7,
   "id": "proved-lotus",
   "metadata": {},
   "outputs": [
    {
     "name": "stdout",
     "output_type": "stream",
     "text": [
      "0 clutery\n",
      "number of time intervals 68\n",
      "1 dishwasher\n",
      "number of time intervals 22\n",
      "2 fridge\n",
      "number of time intervals 79\n",
      "3 microwave\n",
      "number of time intervals 9\n"
     ]
    }
   ],
   "source": [
    "for i,sensor in enumerate(sensors):\n",
    "    print(i,sensor)\n",
    "    print(\"number of time intervals\", len(intervals(S[i])))\n",
    "   \n",
    "     "
   ]
  },
  {
   "cell_type": "code",
   "execution_count": 8,
   "id": "varying-homework",
   "metadata": {},
   "outputs": [],
   "source": [
    "f = open(\"./time-data/S.matrix.tsv\", \"w\")\n",
    "f.write(\"TIME\")\n",
    "for i,sensor in enumerate(sensors):\n",
    "    f.write(\"\\t\"+sensor)\n",
    "f.write(\"\\n\")\n",
    "for t in range(0,nT):\n",
    "    tt=absT(t)\n",
    "    f.write(datetime.fromtimestamp(tt).strftime(\"%Y-%m-%d %H:%M:%S\"))\n",
    "    for i,sensor in enumerate(sensors):\n",
    "        f.write(\"\\t\"+str(S[i][t]))\n",
    "    f.write(\"\\n\")\n",
    "f.close()"
   ]
  },
  {
   "cell_type": "code",
   "execution_count": 9,
   "id": "other-working",
   "metadata": {},
   "outputs": [
    {
     "name": "stdout",
     "output_type": "stream",
     "text": [
      "(6660, 5)\n",
      "(6660, 5)\n",
      "[['None' 'None' 'None' 'None' 'None']\n",
      " ['None' 'None' 'None' 'None' 'None']\n",
      " ['None' 'None' 'None' 'None' 'None']\n",
      " ...\n",
      " ['None' 'None' 'None' 'None' 'None']\n",
      " ['None' 'None' 'None' 'None' 'None']\n",
      " ['None' 'None' 'None' 'None' 'None']]\n"
     ]
    }
   ],
   "source": [
    "user_location={}\n",
    "for tag in tags:\n",
    "    user_location[tag]=[]\n",
    "    series=read_csv(\"./time-data/\"+tag+\".tsv\", sep=\"\\t\",parse_dates=True,header=None)\n",
    "    user_location[tag]=  np.array(series.values[:,[1,2,3,4,5]])  \n",
    "    print(user_location[tag].shape)\n",
    "    \n",
    "print(user_location[\"1\"])"
   ]
  },
  {
   "cell_type": "code",
   "execution_count": 10,
   "id": "stunning-strip",
   "metadata": {},
   "outputs": [
    {
     "name": "stdout",
     "output_type": "stream",
     "text": [
      "[['None']\n",
      " ['None']\n",
      " ['None']\n",
      " ...\n",
      " ['None']\n",
      " ['None']\n",
      " ['None']]\n",
      "6660\n"
     ]
    }
   ],
   "source": [
    "series=read_csv(\"./time-data/1.tsv\", sep=\"\\t\",parse_dates=True,header=None)\n",
    "ts=  np.array(series.values[:,[5]])  \n",
    "print(ts)\n",
    "print(ts.shape[0])"
   ]
  },
  {
   "cell_type": "code",
   "execution_count": 11,
   "id": "sought-cycling",
   "metadata": {},
   "outputs": [
    {
     "name": "stdout",
     "output_type": "stream",
     "text": [
      "[['clutery' 3010.0 -3460.0 4238.5 -2182.5 1.0]\n",
      " ['dishwasher' 1930.0 -3060.0 3280.0 -2250.0 1.0]\n",
      " ['fridge' 3550.0 -5179.5 4981.0 -3870.0 1.0]\n",
      " ['microwave' 3347.5 -4275.0 4765.0 -3060.0 1.0]\n",
      " ['oven' 3347.5 -4275.0 4765.0 -3060.0 1.0]\n",
      " ['clutery,dishwasher,fridge,microwave,oven' 1530.0 -4500.0 3880.0\n",
      "  -2870.0 0.5]]\n",
      "{'clutery': [[3010.0, -3460.0, 4238.5, -2182.5, 1.0], [1530.0, -4500.0, 3880.0, -2870.0, 0.5]], 'dishwasher': [[1930.0, -3060.0, 3280.0, -2250.0, 1.0], [1530.0, -4500.0, 3880.0, -2870.0, 0.5]], 'fridge': [[3550.0, -5179.5, 4981.0, -3870.0, 1.0], [1530.0, -4500.0, 3880.0, -2870.0, 0.5]], 'microwave': [[3347.5, -4275.0, 4765.0, -3060.0, 1.0], [1530.0, -4500.0, 3880.0, -2870.0, 0.5]], 'oven': [[3347.5, -4275.0, 4765.0, -3060.0, 1.0], [1530.0, -4500.0, 3880.0, -2870.0, 0.5]]}\n"
     ]
    }
   ],
   "source": [
    "series=read_csv(\"./sensors-location.tsv\", sep=\"\\t\",header=None)\n",
    "print(series.values)\n",
    "sensor_location={}\n",
    "for d in series.values:\n",
    "    for s in d[0].split(\",\"):\n",
    "        sensor_location[s]=[]\n",
    "for d in series.values:\n",
    "    for s in d[0].split(\",\"):\n",
    "        sensor_location[s].append([float(d[1]),float(d[2]),float(d[3]),float(d[4]),float(d[5])])\n",
    "    \n",
    "print(sensor_location)"
   ]
  },
  {
   "cell_type": "code",
   "execution_count": 12,
   "id": "smart-electron",
   "metadata": {},
   "outputs": [
    {
     "data": {
      "text/plain": [
       "1"
      ]
     },
     "execution_count": 12,
     "metadata": {},
     "output_type": "execute_result"
    }
   ],
   "source": [
    " def get_iou(bb1, bb2):\n",
    "    assert bb1[0] <= bb1[2]\n",
    "    assert bb1[1] <= bb1[3]\n",
    "    assert bb2[0] <= bb2[2]\n",
    "    assert bb2[1] <= bb2[3]\n",
    "\n",
    "    # determine the coordinates of the intersection rectangle\n",
    "    x_left = max(bb1[0], bb2[0])\n",
    "    y_top = max(bb1[1], bb2[1])\n",
    "    x_right = min(bb1[2], bb2[2])\n",
    "    y_bottom = min(bb1[3], bb2[3])\n",
    "\n",
    "    #print(\" iou:\",[x_left,y_top,x_right,y_bottom])\n",
    "    if x_right < x_left or y_bottom < y_top:\n",
    "        return 0.0\n",
    "\n",
    "    # The intersection of two axis-aligned bounding boxes is always an\n",
    "    # axis-aligned bounding box\n",
    "    intersection_area = (x_right - x_left) * (y_bottom - y_top)\n",
    "\n",
    "    \n",
    "    # compute the area of both AABBs\n",
    "    bb1_area = (bb1[2] - bb1[0]) * (bb1[3] - bb1[1])\n",
    "    bb2_area = (bb2[2] - bb2[0]) * (bb2[3] - bb2[1])\n",
    "\n",
    "    # compute the intersection over union by taking the intersection\n",
    "    # area and dividing it by the sum of prediction + ground-truth\n",
    "    # areas - the interesection area\n",
    "    #iou = intersection_area / float(bb1_area + bb2_area - intersection_area)\n",
    "    #print(\" intersection_area/bb1_area:\",intersection_area,bb1_area)\n",
    "    if intersection_area==0 or bb1_area==0:\n",
    "        return 1\n",
    "    iou = intersection_area / float(bb1_area)\n",
    "    assert iou >= 0.0\n",
    "    assert iou <= 1.0\n",
    "    return iou\n",
    "get_iou([22, 25, 22, 26],[10, 20, 30, 50] )"
   ]
  },
  {
   "cell_type": "code",
   "execution_count": 13,
   "id": "plastic-textbook",
   "metadata": {},
   "outputs": [],
   "source": [
    "def getIoSUW(t,sensor, tag):\n",
    "    iou=0\n",
    "    if( 'None' in user_location[tag][t]):\n",
    "        return 0\n",
    "\n",
    "    user_location[tag][t]=user_location[tag][t].astype(np.float)\n",
    "    x1,y1,x2,y2,w=user_location[tag][t][0],user_location[tag][t][1],user_location[tag][t][2],user_location[tag][t][3],user_location[tag][t][4] \n",
    "    for sl in sensor_location[sensor]:\n",
    "        x1o,y1o,x2o,y2o,wo=sl[0],sl[1],sl[2],sl[3],sl[4]\n",
    "\n",
    "        viou=get_iou([x1,y1,x2,y2],[x1o,y1o,x2o,y2o])\n",
    "        #print(\"\\t \\t\", datetime.fromtimestamp(absT(t)).strftime(\"%Y-%m-%d %H:%M:%S\"), \" IoU:\",tag,viou)\n",
    "        #print(\"\\t \\t \",w,wo,\"F(IoU):\",tag,viou*w*wo)\n",
    "        iou=max(iou,viou*w*wo)\n",
    "            \n",
    "    #print(\"iou\",iou)\n",
    "    return iou"
   ]
  },
  {
   "cell_type": "code",
   "execution_count": 14,
   "id": "dirty-customer",
   "metadata": {},
   "outputs": [
    {
     "data": {
      "text/plain": [
       "1"
      ]
     },
     "execution_count": 14,
     "metadata": {},
     "output_type": "execute_result"
    }
   ],
   "source": [
    "def Q(x,l,u):\n",
    "    if(x<=l):\n",
    "        return 0\n",
    "    if(x>=u):\n",
    "        return 1\n",
    "    return (x-l)/(u-l)\n",
    "Q(0.8,0.25,0.75)"
   ]
  },
  {
   "cell_type": "code",
   "execution_count": 15,
   "id": "attended-density",
   "metadata": {},
   "outputs": [
    {
     "name": "stdout",
     "output_type": "stream",
     "text": [
      "Evaluating sensor activation of  clutery\n",
      "Evaluating sensor activation of  dishwasher\n",
      "Evaluating sensor activation of  fridge\n",
      "Evaluating sensor activation of  microwave\n"
     ]
    }
   ],
   "source": [
    "I=np.zeros((len(tags),len(sensors), nT))\n",
    "cT=0\n",
    "cA=0\n",
    "for i,sensor in enumerate(sensors):\n",
    "    print(\"Evaluating sensor activation of \",sensor)\n",
    "    for ii in intervals(S[i]):\n",
    "        #print(\"\\t Interval\",ii, datetime.fromtimestamp(absT(ii[0])).strftime(\"%Y-%m-%d %H:%M:%S\"), datetime.fromtimestamp(absT(ii[1])).strftime(\"%Y-%m-%d %H:%M:%S\"))\n",
    "        for u,tag in enumerate(tags):\n",
    "            wUS=np.zeros(ii[1]-ii[0]+1)\n",
    "            for t in range(ii[0],ii[1]+1):\n",
    "                j=t-ii[0]\n",
    "                wUS[j]=getIoSUW(t,sensor,tag)\n",
    "            wSA=S[i][ii[0]:ii[1]+1]\n",
    "            wUI=np.dot(wSA,wUS)/float(np.sum(wSA))\n",
    "            \n",
    "            #print(\"\\t \\t  \",ii,\" User \",tag,\" wUI:\",wUI, \"Q(wUI):\",Q(wUI,0.1,0.5))\n",
    "            I[u][i][range(ii[0],ii[1]+1)]=Q(wUI,0.1,0.5)\n",
    "            "
   ]
  },
  {
   "cell_type": "code",
   "execution_count": 16,
   "id": "confident-attendance",
   "metadata": {},
   "outputs": [],
   "source": [
    "for u,tag in enumerate(tags):\n",
    "    f = open(\"./time-data/\"+tag+\".matrix.tsv\", \"w\")\n",
    "    f.write(\"TIME\")\n",
    "    for i,sensor in enumerate(sensors):\n",
    "        f.write(\"\\t\"+sensor)\n",
    "    f.write(\"\\n\")\n",
    "    for t in range(0,nT):\n",
    "        tt=absT(t)\n",
    "        f.write(datetime.fromtimestamp(tt).strftime(\"%Y-%m-%d %H:%M:%S\"))\n",
    "        for i,sensor in enumerate(sensors):\n",
    "            f.write(\"\\t\"+str(I[u][i][t]))\n",
    "        f.write(\"\\n\")\n",
    "    f.close()"
   ]
  },
  {
   "cell_type": "code",
   "execution_count": null,
   "id": "peaceful-wheat",
   "metadata": {},
   "outputs": [],
   "source": []
  },
  {
   "cell_type": "code",
   "execution_count": 17,
   "id": "minute-newton",
   "metadata": {},
   "outputs": [
    {
     "data": {
      "image/png": "[encoded data removed]",
      "text/plain": [
       "<Figure size 1080x1080 with 12 Axes>"
      ]
     },
     "metadata": {
      "needs_background": "light"
     },
     "output_type": "display_data"
    }
   ],
   "source": [
    "def prinUserSensorMatrix(I,S):\n",
    "    df = pd.DataFrame()\n",
    "    ts=[]\n",
    "    for t in range(t0,tN,time_step):\n",
    "        ts.append(datetime.fromtimestamp( t))\n",
    "\n",
    "    df['Time']=ts\n",
    "    ls=[]\n",
    "    for ix,sensor in enumerate(sensors):\n",
    "        df[sensor]=S[ix]\n",
    "        ls.append(sensor)\n",
    "        for ux,tag in enumerate(tags):\n",
    "            df[sensor+\"-user\"+tag]=I[ux][ix]\n",
    "            ls.append(sensor+\"-user\"+tag)\n",
    "    df.plot(x=\"Time\",y=ls,subplots=True, legend=True, ylim=(0,1), figsize=(15,15))    \n",
    "    \n",
    "prinUserSensorMatrix(I,S)"
   ]
  },
  {
   "cell_type": "code",
   "execution_count": null,
   "id": "intense-analyst",
   "metadata": {},
   "outputs": [],
   "source": []
  }
 ],
 "metadata": {
  "kernelspec": {
   "display_name": "Python 3",
   "language": "python",
   "name": "python3"
  },
  "language_info": {
   "codemirror_mode": {
    "name": "ipython",
    "version": 3
   },
   "file_extension": ".py",
   "mimetype": "text/x-python",
   "name": "python",
   "nbconvert_exporter": "python",
   "pygments_lexer": "ipython3",
   "version": "3.8.7"
  }
 },
 "nbformat": 4,
 "nbformat_minor": 5
}
