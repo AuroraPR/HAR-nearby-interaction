{
 "cells": [
  {
   "cell_type": "code",
   "execution_count": 1,
   "id": "silent-ceiling",
   "metadata": {},
   "outputs": [
    {
     "name": "stdout",
     "output_type": "stream",
     "text": [
      "1\n",
      "0\n",
      "0.06666666666666665\n"
     ]
    }
   ],
   "source": [
    "def LF(v,l1,l2):\n",
    "    if(v<=l1):\n",
    "        return 1\n",
    "    if(v>l2):\n",
    "        return 0\n",
    "    return 1-(v-l1)/(l2-l1)\n",
    "\n",
    "\n",
    "\n",
    "\n",
    "print(LF(-12000,-5000,-2000))\n",
    "print(LF(-1000,-5000,-2000))\n",
    "print(LF(-2200,-5000,-2000))"
   ]
  },
  {
   "cell_type": "code",
   "execution_count": 2,
   "id": "speaking-philip",
   "metadata": {},
   "outputs": [],
   "source": [
    "\n",
    "\n",
    "ini_date = '12/08/22 13:00:00'\n",
    "end_date = '13/08/22 17:00:00'\n",
    "\n",
    "time_step=60\n",
    "\n",
    "\n",
    "def filter0(v):\n",
    "    return v\n",
    "\n",
    "def agg0(vs):\n",
    "    if(len(vs)==0):\n",
    "        return 0\n",
    "    return min(vs)\n",
    "\n",
    "\n",
    "def LFpower(vs):\n",
    "    if(len(vs)==0):\n",
    "        return 0\n",
    "    v=min(vs)\n",
    "    return LF(v,-5000,-1000)\n",
    "    \n",
    "\n",
    "energy_sensors=[\"power\", \"reactive_power\"]\n",
    "\n",
    "filter_function={}\n",
    "filter_function[\"power\"]=filter0\n",
    "filter_function[\"reactive_power\"]=filter0\n",
    "filter_function[\"pf\"]=filter0\n",
    "\n",
    "aggretation_function={}\n",
    "aggretation_function[\"power\"]=agg0\n",
    "#aggretation_function[\"power\"]=agg0\n",
    "aggretation_function[\"reactive_power\"]=agg0\n",
    "aggretation_function[\"pf\"]=agg0\n"
   ]
  },
  {
   "cell_type": "code",
   "execution_count": 3,
   "id": "regular-channels",
   "metadata": {},
   "outputs": [
    {
     "name": "stdout",
     "output_type": "stream",
     "text": [
      "Init date is 1660302000 day: 19216\n",
      "Init date is 1660402800 day: 19217\n"
     ]
    }
   ],
   "source": [
    "import numpy as np\n",
    "from pandas import read_csv    \n",
    "\n",
    "import time\n",
    "\n",
    "from datetime import datetime\n",
    "\n",
    "def day_time(ti):\n",
    "    return int((int)(ti/(60*60*24)))\n",
    "\n",
    "\n",
    "\n",
    "t0 = (int)(datetime.strptime(ini_date, '%d/%m/%y %H:%M:%S').timestamp())\n",
    "print (\"Init date is\", t0, \"day:\",day_time(t0))\n",
    "\n",
    "tN = (int)(datetime.strptime(end_date, '%d/%m/%y %H:%M:%S').timestamp())\n",
    "print (\"Init date is\", tN, \"day:\",day_time(tN))\n",
    "\n",
    "def relT(ti):\n",
    "    return (int)((ti-t0)/time_step)\n"
   ]
  },
  {
   "cell_type": "code",
   "execution_count": 4,
   "id": "intensive-addiction",
   "metadata": {},
   "outputs": [],
   "source": [
    "import pandas as pd\n",
    "\n",
    "df = pd.DataFrame()\n",
    "\n",
    "ts=[]\n",
    "for t in range(t0,tN,time_step):\n",
    "    ts.append(datetime.fromtimestamp( t))\n",
    "\n",
    "df['Time']=ts    \n",
    "    "
   ]
  },
  {
   "cell_type": "code",
   "execution_count": 5,
   "id": "other-working",
   "metadata": {},
   "outputs": [
    {
     "name": "stdout",
     "output_type": "stream",
     "text": [
      "Loading day  19216\n",
      "Loading day  19217\n",
      "(9088, 2)\n",
      "[[  52.   -209.26]\n",
      " [  52.   -238.94]\n",
      " [  52.   -246.8 ]\n",
      " ...\n",
      " [1616.   -262.95]\n",
      " [1616.   -268.92]\n",
      " [1616.   -277.79]]\n",
      "Loading day  19216\n",
      "Loading day  19217\n",
      "(9088, 2)\n",
      "[[  52.    -79.87]\n",
      " [  52.    -85.7 ]\n",
      " [  52.    -55.85]\n",
      " ...\n",
      " [1616.   -128.9 ]\n",
      " [1616.   -134.59]\n",
      " [1616.   -144.32]]\n",
      "Loading day  19216\n",
      "Loading day  19217\n",
      "(9088, 2)\n",
      "[[5.200e+01 9.300e-01]\n",
      " [5.200e+01 9.400e-01]\n",
      " [5.200e+01 9.800e-01]\n",
      " ...\n",
      " [1.616e+03 9.000e-01]\n",
      " [1.616e+03 8.900e-01]\n",
      " [1.616e+03 8.900e-01]]\n"
     ]
    }
   ],
   "source": [
    "\n",
    "for sensor in energy_sensors:\n",
    "    dt=[]\n",
    "    for d in range(day_time(t0),day_time(tN)+1):\n",
    "        print(\"Loading day \",d)\n",
    "        try:\n",
    "            series=read_csv(\"./data/energy/\"+str(d)+\".\"+sensor+\".tsv\", sep=\"\\t\",parse_dates=True,header=None)\n",
    "            for vt in series.values[:,[0,2]]:\n",
    "                t=relT(vt[0])\n",
    "                v=filter_function[sensor](vt[1])\n",
    "                dt.append([t,v])\n",
    "                \n",
    "        except:\n",
    "            print(\" Not data for sensor \",sensor, \" in day \",d)\n",
    "    dt=np.array(dt)\n",
    "    print(dt.shape)\n",
    "    print(dt)\n",
    "    ts=dt[:,0]\n",
    "    \n",
    "    f = open(\"./time-data/\"+sensor+\".tsv\", \"w\")\n",
    "    vs=[]\n",
    "    for t in range(t0,tN,time_step):\n",
    "        ti=relT(t)\n",
    "        i=np.where( (ts==ti))[0]\n",
    "        #print(i, \" dt[i]:\",dt[:,1][i])\n",
    "        v_agg=aggretation_function[sensor](dt[:,1][i])\n",
    "        \n",
    "        #print(ti,\" agg:\",v_agg)\n",
    "        vs.append(v_agg)\n",
    "        f.write(str(ti)+\"\\t\"+str(v_agg)+\"\\t\"+datetime.fromtimestamp( t).strftime(\"%Y-%m-%d %H:%M:%S\")+\"\\n\")\n",
    "        \n",
    "    f.close()\n",
    "    df[sensor]=vs\n",
    "\n",
    "\n",
    "        "
   ]
  },
  {
   "cell_type": "code",
   "execution_count": 6,
   "id": "plastic-textbook",
   "metadata": {},
   "outputs": [
    {
     "data": {
      "text/plain": [
       "array([<AxesSubplot:xlabel='Time'>, <AxesSubplot:xlabel='Time'>,\n",
       "       <AxesSubplot:xlabel='Time'>], dtype=object)"
      ]
     },
     "execution_count": 6,
     "metadata": {},
     "output_type": "execute_result"
    },
    {
     "data": {
      "image/png": "[encoded data removed]",
      "text/plain": [
       "<Figure size 432x288 with 3 Axes>"
      ]
     },
     "metadata": {
      "needs_background": "light"
     },
     "output_type": "display_data"
    }
   ],
   "source": [
    "df.plot(x=\"Time\",y=energy_sensors,subplots=True, legend=True)\n"
   ]
  },
  {
   "cell_type": "code",
   "execution_count": null,
   "id": "attended-density",
   "metadata": {},
   "outputs": [],
   "source": []
  }
 ],
 "metadata": {
  "kernelspec": {
   "display_name": "Python 3",
   "language": "python",
   "name": "python3"
  },
  "language_info": {
   "codemirror_mode": {
    "name": "ipython",
    "version": 3
   },
   "file_extension": ".py",
   "mimetype": "text/x-python",
   "name": "python",
   "nbconvert_exporter": "python",
   "pygments_lexer": "ipython3",
   "version": "3.8.7"
  }
 },
 "nbformat": 4,
 "nbformat_minor": 5
}
